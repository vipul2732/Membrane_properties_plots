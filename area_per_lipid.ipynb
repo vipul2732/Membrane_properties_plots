{
 "cells": [
  {
   "cell_type": "code",
   "execution_count": 2,
   "metadata": {},
   "outputs": [],
   "source": [
    "import numpy as np\n",
    "import pandas as pd\n",
    "import matplotlib.pyplot as plt\n",
    "import seaborn as sns"
   ]
  },
  {
   "cell_type": "code",
   "execution_count": 3,
   "metadata": {},
   "outputs": [],
   "source": [
    "df = pd.read_excel('apl.xlsx')"
   ]
  },
  {
   "cell_type": "code",
   "execution_count": 4,
   "metadata": {},
   "outputs": [
    {
     "data": {
      "text/html": [
       "<div>\n",
       "<style scoped>\n",
       "    .dataframe tbody tr th:only-of-type {\n",
       "        vertical-align: middle;\n",
       "    }\n",
       "\n",
       "    .dataframe tbody tr th {\n",
       "        vertical-align: top;\n",
       "    }\n",
       "\n",
       "    .dataframe thead th {\n",
       "        text-align: right;\n",
       "    }\n",
       "</style>\n",
       "<table border=\"1\" class=\"dataframe\">\n",
       "  <thead>\n",
       "    <tr style=\"text-align: right;\">\n",
       "      <th></th>\n",
       "      <th>Lipid</th>\n",
       "      <th>Area</th>\n",
       "      <th>ResN</th>\n",
       "      <th>STD_Error</th>\n",
       "      <th>Frame</th>\n",
       "      <th>Leaflet</th>\n",
       "    </tr>\n",
       "  </thead>\n",
       "  <tbody>\n",
       "    <tr>\n",
       "      <th>0</th>\n",
       "      <td>CHL1</td>\n",
       "      <td>32.562940</td>\n",
       "      <td>10</td>\n",
       "      <td>3.152003</td>\n",
       "      <td>0</td>\n",
       "      <td>0</td>\n",
       "    </tr>\n",
       "    <tr>\n",
       "      <th>1</th>\n",
       "      <td>POPC</td>\n",
       "      <td>58.888797</td>\n",
       "      <td>13</td>\n",
       "      <td>2.272002</td>\n",
       "      <td>0</td>\n",
       "      <td>0</td>\n",
       "    </tr>\n",
       "    <tr>\n",
       "      <th>2</th>\n",
       "      <td>POPE</td>\n",
       "      <td>56.818666</td>\n",
       "      <td>10</td>\n",
       "      <td>4.218703</td>\n",
       "      <td>0</td>\n",
       "      <td>0</td>\n",
       "    </tr>\n",
       "    <tr>\n",
       "      <th>3</th>\n",
       "      <td>PSM</td>\n",
       "      <td>34.615826</td>\n",
       "      <td>8</td>\n",
       "      <td>2.854085</td>\n",
       "      <td>0</td>\n",
       "      <td>0</td>\n",
       "    </tr>\n",
       "    <tr>\n",
       "      <th>4</th>\n",
       "      <td>SSM</td>\n",
       "      <td>33.263977</td>\n",
       "      <td>9</td>\n",
       "      <td>1.820979</td>\n",
       "      <td>0</td>\n",
       "      <td>0</td>\n",
       "    </tr>\n",
       "    <tr>\n",
       "      <th>...</th>\n",
       "      <td>...</td>\n",
       "      <td>...</td>\n",
       "      <td>...</td>\n",
       "      <td>...</td>\n",
       "      <td>...</td>\n",
       "      <td>...</td>\n",
       "    </tr>\n",
       "    <tr>\n",
       "      <th>100005</th>\n",
       "      <td>CHL1</td>\n",
       "      <td>31.251818</td>\n",
       "      <td>10</td>\n",
       "      <td>1.737756</td>\n",
       "      <td>10000</td>\n",
       "      <td>1</td>\n",
       "    </tr>\n",
       "    <tr>\n",
       "      <th>100006</th>\n",
       "      <td>POPC</td>\n",
       "      <td>58.424808</td>\n",
       "      <td>13</td>\n",
       "      <td>1.783530</td>\n",
       "      <td>10000</td>\n",
       "      <td>1</td>\n",
       "    </tr>\n",
       "    <tr>\n",
       "      <th>100007</th>\n",
       "      <td>POPE</td>\n",
       "      <td>57.468288</td>\n",
       "      <td>10</td>\n",
       "      <td>3.478378</td>\n",
       "      <td>10000</td>\n",
       "      <td>1</td>\n",
       "    </tr>\n",
       "    <tr>\n",
       "      <th>100008</th>\n",
       "      <td>PSM</td>\n",
       "      <td>29.964753</td>\n",
       "      <td>8</td>\n",
       "      <td>3.316927</td>\n",
       "      <td>10000</td>\n",
       "      <td>1</td>\n",
       "    </tr>\n",
       "    <tr>\n",
       "      <th>100009</th>\n",
       "      <td>SSM</td>\n",
       "      <td>31.476649</td>\n",
       "      <td>9</td>\n",
       "      <td>2.722669</td>\n",
       "      <td>10000</td>\n",
       "      <td>1</td>\n",
       "    </tr>\n",
       "  </tbody>\n",
       "</table>\n",
       "<p>100010 rows × 6 columns</p>\n",
       "</div>"
      ],
      "text/plain": [
       "       Lipid       Area  ResN  STD_Error  Frame  Leaflet\n",
       "0       CHL1  32.562940    10   3.152003      0        0\n",
       "1       POPC  58.888797    13   2.272002      0        0\n",
       "2       POPE  56.818666    10   4.218703      0        0\n",
       "3        PSM  34.615826     8   2.854085      0        0\n",
       "4        SSM  33.263977     9   1.820979      0        0\n",
       "...      ...        ...   ...        ...    ...      ...\n",
       "100005  CHL1  31.251818    10   1.737756  10000        1\n",
       "100006  POPC  58.424808    13   1.783530  10000        1\n",
       "100007  POPE  57.468288    10   3.478378  10000        1\n",
       "100008   PSM  29.964753     8   3.316927  10000        1\n",
       "100009   SSM  31.476649     9   2.722669  10000        1\n",
       "\n",
       "[100010 rows x 6 columns]"
      ]
     },
     "execution_count": 4,
     "metadata": {},
     "output_type": "execute_result"
    }
   ],
   "source": [
    "df"
   ]
  },
  {
   "cell_type": "code",
   "execution_count": 22,
   "metadata": {},
   "outputs": [
    {
     "data": {
      "image/png": "[encoded data removed]",
      "text/plain": [
       "<Figure size 360x360 with 1 Axes>"
      ]
     },
     "metadata": {},
     "output_type": "display_data"
    }
   ],
   "source": [
    "sns.set (style='white', font='san-serif', font_scale=1.6)\n",
    "g=sns.catplot(x=\"Lipid\", y=\"Area\", data=df, kind='violin').set(xlabel='Lipids', ylabel='Area(A\\u00b2)')\n",
    "g.savefig('lipid_area.jpg', dpi=400)"
   ]
  },
  {
   "cell_type": "code",
   "execution_count": null,
   "metadata": {},
   "outputs": [],
   "source": []
  }
 ],
 "metadata": {
  "kernelspec": {
   "display_name": "Python 3",
   "language": "python",
   "name": "python3"
  },
  "language_info": {
   "codemirror_mode": {
    "name": "ipython",
    "version": 3
   },
   "file_extension": ".py",
   "mimetype": "text/x-python",
   "name": "python",
   "nbconvert_exporter": "python",
   "pygments_lexer": "ipython3",
   "version": "3.7.6"
  }
 },
 "nbformat": 4,
 "nbformat_minor": 4
}
